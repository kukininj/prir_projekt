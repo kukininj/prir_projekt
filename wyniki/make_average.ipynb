{
 "cells": [
  {
   "cell_type": "code",
   "execution_count": 2,
   "metadata": {},
   "outputs": [],
   "source": [
    "import pandas as pd"
   ]
  },
  {
   "cell_type": "code",
   "execution_count": 9,
   "metadata": {},
   "outputs": [],
   "source": [
    "wyniki1 = pd.read_csv('wyniki_1_average_10.txt')\n",
    "wyniki2 = pd.read_csv('wyniki_2_average_10.txt')\n",
    "\n",
    "combined = pd.DataFrame({\n",
    "    'czas1': wyniki1['czas'],\n",
    "    'czas2': wyniki2['czas']\n",
    "})\n",
    "\n",
    "combined['czas'] = combined.mean(axis=1)\n",
    "combined = combined.drop(columns = ['czas1', 'czas2'])\n",
    "combined['ilosc watkow'] = wyniki1['ilosc watkow']\n",
    "combined['ilosc hashy'] = wyniki1['ilosc hashy']\n",
    "combined = combined[['ilosc watkow', 'czas', 'ilosc hashy']]\n",
    "combined = combined.round(6)"
   ]
  },
  {
   "cell_type": "code",
   "execution_count": null,
   "metadata": {},
   "outputs": [],
   "source": [
    "combined.to_csv('wyniki_average_20.txt', index=False)"
   ]
  }
 ],
 "metadata": {
  "kernelspec": {
   "display_name": "jupyter",
   "language": "python",
   "name": "python3"
  },
  "language_info": {
   "codemirror_mode": {
    "name": "ipython",
    "version": 3
   },
   "file_extension": ".py",
   "mimetype": "text/x-python",
   "name": "python",
   "nbconvert_exporter": "python",
   "pygments_lexer": "ipython3",
   "version": "3.12.3"
  }
 },
 "nbformat": 4,
 "nbformat_minor": 2
}
